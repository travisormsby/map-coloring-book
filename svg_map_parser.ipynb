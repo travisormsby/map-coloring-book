{
 "cells": [
  {
   "cell_type": "code",
   "execution_count": 13,
   "metadata": {},
   "outputs": [],
   "source": [
    "input_file = 'img/asian.svg'\n",
    "output_file = 'img/asian_parsed.svg'\n",
    "output_map_name = 'Percent Asian'"
   ]
  },
  {
   "cell_type": "code",
   "execution_count": 14,
   "metadata": {},
   "outputs": [],
   "source": [
    "line_num = 0\n",
    "with open(input_file, 'rt') as fin:\n",
    "    with open(output_file, 'wt') as fout:\n",
    "        for line in fin:\n",
    "            # write the stylesheet link after the first xml declaration\n",
    "            if line.startswith(\"<?xml\"):\n",
    "                fout.write(line)\n",
    "                fout.write('<?xml-stylesheet type=\"text/css\" href=\"../css/styles.css\" ?>\\n')\n",
    "            \n",
    "            # write the script link and define the highlight pattern before the paths\n",
    "            elif line.startswith(\"<g color-interpolation\"):\n",
    "                fout.write(f'<title>{output_map_name}</title>')\n",
    "                fout.write('<script xlink:href=\"../js/scripts.js\" />\\n')\n",
    "                fout.write('<defs>\\n')\n",
    "                fout.write('<g id=\"background\" >\\n')\n",
    "                fout.write('<rect x=\"0\"  y=\"0\" height=\"5\" width=\"5\" fill=\"#c8c8c8\" />\\n')\n",
    "                fout.write('<rect x=\"5\"  y=\"0\" height=\"5\" width=\"5\" fill=\"#f8f8f8\"/>\\n')\n",
    "                fout.write('<rect x=\"0\"  y=\"5\" height=\"5\" width=\"5\" fill=\"#f8f8f8\"/>\\n')\n",
    "                fout.write('<rect x=\"5\"  y=\"5\" height=\"5\" width=\"5\" fill=\"#c8c8c8\" />\\n')\n",
    "                fout.write('</g>\\n')\n",
    "                fout.write('<pattern id=\"OvalPattern\" patternUnits=\"userSpaceOnUse\" width=\"10\" height=\"10\" >\\n')\n",
    "                fout.write('<use xlink:href=\"#background\"/>\\n')\n",
    "                fout.write('</pattern>\\n')\n",
    "                fout.write('</defs>\\n')\n",
    "                fout.write(line)\n",
    "            \n",
    "            # use the starting fill color as the class, add an onclick to enable fill change\n",
    "            else:\n",
    "                for r in (('fill=\"#', 'class=\"rgb'), ('path', f'path id=\"feature{line_num}\" fill=\"#ffffff\" onclick=\"color(this.id, this.getAttribute(\\'class\\'))\"')):\n",
    "                    line = line.replace(*r)\n",
    "                fout.write(line)\n",
    "            line_num += 1        "
   ]
  },
  {
   "cell_type": "code",
   "execution_count": 7,
   "metadata": {},
   "outputs": [
    {
     "data": {
      "text/plain": [
       "[0.0024151811385853938, 0.0031615251963977775, 0.003845680531626877, 0.0046775634624481, 0.006688963210702341, 0.00885998821331895, 0.015011309891013777, 0.027218206981393205, 0.11658737024221454]"
      ]
     },
     "execution_count": 7,
     "metadata": {},
     "output_type": "execute_result"
    }
   ],
   "source": [
    "p = arcpy.mp.ArcGISProject(\"Current\")\n",
    "m = p.listMaps()[0]\n",
    "l = m.listLayers()[0]\n",
    "sym = l.symbology\n",
    "[brk.upperBound for brk in sym.renderer.classBreaks]"
   ]
  }
 ],
 "metadata": {
  "kernelspec": {
   "display_name": "ArcGISPro",
   "language": "Python",
   "name": "python3"
  },
  "language_info": {
   "file_extension": ".py",
   "name": "python",
   "version": "3"
  }
 },
 "nbformat": 4,
 "nbformat_minor": 2
}
